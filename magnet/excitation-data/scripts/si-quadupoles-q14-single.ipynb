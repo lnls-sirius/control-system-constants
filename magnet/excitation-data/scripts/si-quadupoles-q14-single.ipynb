{
 "cells": [
  {
   "cell_type": "code",
   "execution_count": null,
   "metadata": {
    "collapsed": true
   },
   "outputs": [],
   "source": [
    "import numpy as np\n",
    "import matplotlib.pyplot as plt\n",
    "\n",
    "from rotcoil import *"
   ]
  },
  {
   "cell_type": "code",
   "execution_count": null,
   "metadata": {
    "collapsed": true
   },
   "outputs": [],
   "source": [
    "# load data\n",
    "\n",
    "serial_number = '002'\n",
    "\n",
    "m = RotCoilMeas_SIQuadQ14(serial_number)\n",
    "print('harmonics: {}'.format(m.harmonics))\n",
    "print()\n",
    "\n",
    "# loop over data sets\n",
    "for data_set in m.data_sets:\n",
    "    print('data set: {}'.format(data_set))\n",
    "    data = m.get_data_set_measurements('M1')\n",
    "    for d in data:\n",
    "        print('timestamp:{:<10}  current_avg[A]:{:+.2f}'.format(d.hour, d.main_coil_current_avg))\n",
    "    print()"
   ]
  },
  {
   "cell_type": "code",
   "execution_count": null,
   "metadata": {
    "collapsed": true
   },
   "outputs": [],
   "source": [
    "# Plot rampup-rampdown curves of all data sets\n",
    "\n",
    "for data_set in m.data_sets:\n",
    "    c = m.get_currents(data_set)\n",
    "    gl = m.get_intmpole_normal_avg('M1', m.main_harmonic)\n",
    "    plt.plot(c, gl)\n",
    "plt.xlabel('Current [A]')\n",
    "plt.ylabel('GL [T]')\n",
    "plt.show()"
   ]
  },
  {
   "cell_type": "code",
   "execution_count": null,
   "metadata": {
    "collapsed": true
   },
   "outputs": [],
   "source": [
    "# Plot rampdown quadrupole hysteresis\n",
    "\n",
    "for data_set in m.data_sets:\n",
    "    c, h, area = m.get_rampdown_hysteresis('M1')\n",
    "    plt.plot(c, h)\n",
    "    print('data set {:<3s} hysteresis area: {:+.2f} T.A'.format(data_set, area))\n",
    "plt.xlabel('Rampdown current [A]')\n",
    "plt.ylabel('dGL [T]')\n",
    "plt.show()"
   ]
  }
 ],
 "metadata": {
  "kernelspec": {
   "display_name": "Python 3",
   "language": "python",
   "name": "python3"
  },
  "language_info": {
   "codemirror_mode": {
    "name": "ipython",
    "version": 3
   },
   "file_extension": ".py",
   "mimetype": "text/x-python",
   "name": "python",
   "nbconvert_exporter": "python",
   "pygments_lexer": "ipython3",
   "version": "3.6.1"
  }
 },
 "nbformat": 4,
 "nbformat_minor": 2
}
