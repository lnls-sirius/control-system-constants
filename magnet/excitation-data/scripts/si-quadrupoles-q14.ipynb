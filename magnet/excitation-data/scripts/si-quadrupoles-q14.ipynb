{
 "cells": [
  {
   "cell_type": "code",
   "execution_count": 1,
   "metadata": {},
   "outputs": [],
   "source": [
    "import numpy as np\n",
    "import matplotlib.pyplot as plt\n",
    "\n",
    "from rotcoil import *"
   ]
  },
  {
   "cell_type": "code",
   "execution_count": 2,
   "metadata": {},
   "outputs": [
    {
     "name": "stdout",
     "output_type": "stream",
     "text": [
      "serial_number: 002, data sets: ['M1']\n",
      "serial_number: 004, data sets: ['M1']\n",
      "serial_number: 005, data sets: ['M1']\n",
      "serial_number: 006, data sets: ['M1']\n",
      "serial_number: 007, data sets: ['M1']\n",
      "serial_number: 008, data sets: ['M1']\n",
      "serial_number: 009, data sets: ['M1']\n",
      "serial_number: 010, data sets: ['M1']\n",
      "serial_number: 011, data sets: ['M1']\n",
      "serial_number: 012, data sets: ['M1']\n",
      "serial_number: 013, data sets: ['M1']\n"
     ]
    }
   ],
   "source": [
    "# load data\n",
    "\n",
    "serial_numbers = [\n",
    "    '002', '004', '005', '006', '007', '008', '009', '010', '011', '012', '013',\n",
    "]\n",
    "\n",
    "meas = dict()\n",
    "for sn in serial_numbers:\n",
    "    meas[sn] = RotCoilMeas_SIQuadQ14(sn)\n",
    "    print('serial_number: {}, data sets: {}'.format(sn, meas[sn].data_sets))"
   ]
  },
  {
   "cell_type": "code",
   "execution_count": 3,
   "metadata": {},
   "outputs": [
    {
     "name": "stdout",
     "output_type": "stream",
     "text": [
      "002\n",
      "004\n",
      "005\n",
      "006\n",
      "007\n",
      "008\n",
      "009\n",
      "010\n",
      "011\n",
      "012\n",
      "013\n",
      "[-5.236775, -5.233872, -5.235834, -5.234722, -5.237409, -5.235423, -5.241973, -5.234958, -5.237691, -5.236983, -5.24246]\n"
     ]
    },
    {
     "data": {
      "image/png": "[encoded data removed]",
      "text/plain": [
       "<matplotlib.figure.Figure at 0x7f77e452cb38>"
      ]
     },
     "metadata": {},
     "output_type": "display_data"
    }
   ],
   "source": [
    "# Plot Gl at maximum current\n",
    "\n",
    "gl_at_maximum = []\n",
    "for sn in meas:\n",
    "    m = meas[sn]\n",
    "    print(m.serial_number)\n",
    "    c, gl = m.get_rampup('M1')\n",
    "    #currents.append(c)\n",
    "    gl_at_maximum.append(gl[-1])\n",
    "plt.plot(gl_at_maximum)\n",
    "plt.xlabel('')\n",
    "plt.show()"
   ]
  },
  {
   "cell_type": "code",
   "execution_count": null,
   "metadata": {
    "collapsed": true
   },
   "outputs": [],
   "source": []
  }
 ],
 "metadata": {
  "kernelspec": {
   "display_name": "Python 3",
   "language": "python",
   "name": "python3"
  },
  "language_info": {
   "codemirror_mode": {
    "name": "ipython",
    "version": 3
   },
   "file_extension": ".py",
   "mimetype": "text/x-python",
   "name": "python",
   "nbconvert_exporter": "python",
   "pygments_lexer": "ipython3",
   "version": "3.6.1"
  }
 },
 "nbformat": 4,
 "nbformat_minor": 2
}
