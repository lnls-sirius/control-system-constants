{
 "cells": [
  {
   "cell_type": "code",
   "execution_count": null,
   "metadata": {},
   "outputs": [],
   "source": [
    "import numpy as np\n",
    "import matplotlib\n",
    "matplotlib.use('Qt5Agg')\n",
    "\n",
    "%matplotlib notebook\n",
    "\n",
    "import matplotlib.pyplot as plt\n",
    "from rotcoil import *"
   ]
  },
  {
   "cell_type": "code",
   "execution_count": null,
   "metadata": {},
   "outputs": [],
   "source": [
    "# Define serial numbers, one for each magnet\n",
    "\n",
    "serials = [\n",
    "    '002', '004', '005', '006', '007', '008', '009', \n",
    "    '010', '011', '012', '013', '014', '015', '016', '017', '018', '019',\n",
    "    '020', '021', '023', '024', '025', '026', '027', '028', '029',\n",
    "    '030', '031', '032', '033', '034', '035', '036', '037', '038', '039',\n",
    "    '040', '041', '042', '043', '044', '045', '046', '047', '048', '049',\n",
    "    '050', '051', '052', '053', '054', '055', '056', '057', '058', '059',\n",
    "    '060', '061', '062', '063', '064', '065', '066', '067', '068', '069',\n",
    "    '070', '071', '072', '073', '074', '075', '076', '077', '078', '079',\n",
    "    '080', '081',\n",
    "]\n",
    "\n",
    "# Load all data\n",
    "meas = dict()\n",
    "for i in range(len(serials)):\n",
    "    sn = serials[i]\n",
    "    meas[sn] = RotCoilMeas_SIQuadQ14(sn)\n",
    "    print('index: {:02d}, serial_number: {}, data sets: {}'.format(i, sn, meas[sn].data_sets))"
   ]
  },
  {
   "cell_type": "code",
   "execution_count": null,
   "metadata": {},
   "outputs": [],
   "source": [
    "# Magnetic Center\n",
    "c, g = meas[serials[56]].get_rampup('M1')\n",
    "print(c)\n",
    "print(g)"
   ]
  },
  {
   "cell_type": "code",
   "execution_count": null,
   "metadata": {},
   "outputs": [],
   "source": [
    "# Random Integrated Quadrupole Errors\n",
    "\n",
    "tmpl_meas = meas[serials[0]]\n",
    "\n",
    "def get_gl_set(current_index):\n",
    "    c, g = [], []\n",
    "    for sn in meas:\n",
    "        m = meas[sn]\n",
    "        ct, gt = m.get_rampup('M1')\n",
    "        c.append(ct[current_index])\n",
    "        g.append(gt[current_index])\n",
    "    g_avg = np.mean(g)\n",
    "    g_std = np.std(g)\n",
    "    return g_avg, g_std, c, g\n",
    "\n",
    "\n",
    "currents, _ = tmpl_meas.get_rampup('M1')\n",
    "errors, cs, gs = [], [], []\n",
    "for i in range(len(currents)):\n",
    "    g_avg, g_std, c, g = get_gl_set(i)\n",
    "    error = [100*(gv - g_avg)/g_avg for gv in g]\n",
    "    fmtstr = 'current: {:+8.3f} [A], rms_error: {:7.4f} [%], max_error: {:7.4f} [%]'\n",
    "    print(fmtstr.format(np.mean(c), abs(100*g_std/g_avg), max(np.abs(error))))\n",
    "    errors.append(error)\n",
    "    cs.append(c)\n",
    "    gs.append(g)\n",
    "    \n",
    "# Plot Integrated Quadrupole Error for maximum current\n",
    "\n",
    "data = errors[-1]\n",
    "spec_rms = tmpl_meas.spec_main_intmpole_rms_error\n",
    "avg, std = np.mean(data), np.std(data)\n",
    "plt.plot(data, 'ob')\n",
    "plt.plot((1,len(data)), (spec_rms, spec_rms), '--r')\n",
    "plt.plot((1,len(data)), (-spec_rms, -spec_rms), '--r')\n",
    "#lt.xticks(range(len(serial_numbers)), serial_numbers, rotation='vertical')\n",
    "plt.title('Magnets Integrated Gradient Error at Maximum Current')\n",
    "plt.xlabel('Serial Number Index')\n",
    "plt.ylabel('Difference from average [%]')\n",
    "plt.show()"
   ]
  },
  {
   "cell_type": "code",
   "execution_count": null,
   "metadata": {
    "collapsed": true
   },
   "outputs": [],
   "source": []
  }
 ],
 "metadata": {
  "kernelspec": {
   "display_name": "Python 3",
   "language": "python",
   "name": "python3"
  },
  "language_info": {
   "codemirror_mode": {
    "name": "ipython",
    "version": 3
   },
   "file_extension": ".py",
   "mimetype": "text/x-python",
   "name": "python",
   "nbconvert_exporter": "python",
   "pygments_lexer": "ipython3",
   "version": "3.6.1"
  }
 },
 "nbformat": 4,
 "nbformat_minor": 2
}
